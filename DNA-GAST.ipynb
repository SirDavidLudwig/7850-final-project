{
 "cells": [
  {
   "cell_type": "markdown",
   "id": "b93464dc-d77a-4ce1-9d95-4271be5950a2",
   "metadata": {},
   "source": [
    "# DNA-GAST\n",
    "\n",
    "This notebook explores the utilization of the GAST model for high-dimensional set elements in the form of pre-trained embeddings. The original DNA samples have been encoded and stored into *shelve* files located within the `./datasets/dna` directory."
   ]
  },
  {
   "cell_type": "code",
   "execution_count": 1,
   "id": "003962f6-24f9-4f14-9a62-9b09eadb8fd1",
   "metadata": {},
   "outputs": [],
   "source": [
    "%load_ext cython"
   ]
  },
  {
   "cell_type": "code",
   "execution_count": 2,
   "id": "f2b2f56c-3197-4adb-a0ee-8248ec31b43c",
   "metadata": {},
   "outputs": [],
   "source": [
    "import matplotlib.pyplot as plt\n",
    "import numpy as np\n",
    "import os\n",
    "import tensorflow as tf\n",
    "import tensorflow.keras as keras\n",
    "import tensorflow_addons as tfa\n",
    "import time\n",
    "import shelve\n",
    "from sklearn.manifold import MDS\n",
    "\n",
    "from IPython import display\n",
    "\n",
    "import settransformer as sf\n",
    "\n",
    "import common"
   ]
  },
  {
   "cell_type": "markdown",
   "id": "3f820c5e-0b90-4314-baa1-0c57ff936957",
   "metadata": {},
   "source": [
    "## Configuration"
   ]
  },
  {
   "cell_type": "code",
   "execution_count": 3,
   "id": "c0739d61-c54d-47c6-ad44-117ef95d3136",
   "metadata": {},
   "outputs": [],
   "source": [
    "strategy = common.strategy(\"gpu:0\")\n",
    "# strategy = common.strategy(multi_gpu=True)"
   ]
  },
  {
   "cell_type": "code",
   "execution_count": 4,
   "id": "bea5f7d1-42be-4fbb-8cff-fb195cfd254a",
   "metadata": {},
   "outputs": [
    {
     "data": {
      "text/plain": [
       "False"
      ]
     },
     "execution_count": 4,
     "metadata": {},
     "output_type": "execute_result"
    }
   ],
   "source": [
    "# Use the original implementation of multihead attention\n",
    "# from the official Pytorch implementation of set transformer\n",
    "sf.config(\"use_keras_mha\", False)"
   ]
  },
  {
   "cell_type": "code",
   "execution_count": 5,
   "id": "9cfe6941-490b-4595-8227-ee1159765f07",
   "metadata": {},
   "outputs": [],
   "source": [
    "KMERS = 3\n",
    "SEQUENCE_LENGTH = 150"
   ]
  },
  {
   "cell_type": "markdown",
   "id": "2f318733-b5ce-46dc-9901-d17f44bfaea4",
   "metadata": {},
   "source": [
    "## Pre-trained Embedding Model\n",
    "\n",
    "This model is a pre-trained embedding model designed for 3-mer 128-dim embeddings"
   ]
  },
  {
   "cell_type": "code",
   "execution_count": 6,
   "id": "f384dc4a-bddc-4ab7-b439-8e1f7147848e",
   "metadata": {},
   "outputs": [
    {
     "name": "stdout",
     "output_type": "stream",
     "text": [
      "Model: \"model_2\"\n",
      "_________________________________________________________________\n",
      "Layer (type)                 Output Shape              Param #   \n",
      "=================================================================\n",
      "input_3 (InputLayer)         [(None, 50)]              0         \n",
      "_________________________________________________________________\n",
      "model (Functional)           (None, 128)               246336    \n",
      "_________________________________________________________________\n",
      "model_1 (Functional)         (None, 50, 125)           247933    \n",
      "=================================================================\n",
      "Total params: 494,269\n",
      "Trainable params: 494,269\n",
      "Non-trainable params: 0\n",
      "_________________________________________________________________\n"
     ]
    }
   ],
   "source": [
    "sequence_length = int(SEQUENCE_LENGTH / KMERS)\n",
    "num_tokens = 5**KMERS\n",
    "embed_dim = 32\n",
    "latent_dim = 128\n",
    "num_heads = 8\n",
    "enc_stack = 1\n",
    "dec_stack = 1\n",
    "\n",
    "with strategy.scope():\n",
    "    # Encoder\n",
    "    y = x = keras.layers.Input((sequence_length,))\n",
    "    y = keras.layers.Embedding(input_dim=num_tokens, output_dim=embed_dim)(y)\n",
    "    y = common.FixedPositionEmbedding(length=sequence_length, embed_dim=embed_dim)(y)\n",
    "    for _ in range(enc_stack):\n",
    "        y = common.TransformerBlock(embed_dim, num_heads, ff_dim=embed_dim)(y)\n",
    "    y = keras.layers.Flatten()(y)\n",
    "    y = keras.layers.Dense(latent_dim)(y)\n",
    "    encoder = keras.Model(x, y)\n",
    "\n",
    "    # Decoder\n",
    "    y = x = keras.layers.Input((encoder.output.shape[1:]))\n",
    "    y = keras.layers.Dense(sequence_length*embed_dim)(y)\n",
    "    y = keras.layers.Reshape((-1, embed_dim))(y)\n",
    "    y = embed = common.FixedPositionEmbedding(length=sequence_length, embed_dim=embed_dim)(y)\n",
    "    for _ in range(dec_stack):\n",
    "        y = common.TransformerBlock(embed_dim, num_heads, ff_dim=embed_dim)(y)\n",
    "        y = keras.layers.Add()((embed, y))\n",
    "    y = keras.layers.Dense(num_tokens, activation=\"softmax\")(y)\n",
    "    decoder = keras.Model(x, y)\n",
    "\n",
    "    # Coupled model\n",
    "    y = x = keras.layers.Input(encoder.input.shape[1:])\n",
    "    y = encoder(y)\n",
    "    y = decoder(y)\n",
    "    embed_model = keras.Model(x, y)\n",
    "    embed_model.encoder = encoder\n",
    "    embed_model.decoder = decoder\n",
    "    embed_model.compile(\n",
    "        keras.optimizers.Nadam(1e-3),\n",
    "        loss=keras.losses.SparseCategoricalCrossentropy(from_logits=False),\n",
    "        metrics=[keras.metrics.SparseCategoricalAccuracy()])\n",
    "    embed_model.summary()\n",
    "    \n",
    "    embed_model.load_weights(\"./models/embedding.h5\")"
   ]
  },
  {
   "cell_type": "markdown",
   "id": "15f0c8f7-0462-4323-ad2c-89bcd2380a8e",
   "metadata": {},
   "source": [
    "## Sample Embedding Generation\n",
    "\n",
    "The following code iterates over all available processed sample files and predicts learned embeddings of augmented DNA samples to a corresponding output file. This process may take a while on the first run as it needs to create the sample stores. Existing stores will be skipped to save time."
   ]
  },
  {
   "cell_type": "code",
   "execution_count": 7,
   "id": "93b658d4-7629-4ec4-ae66-34054bc1eb7b",
   "metadata": {},
   "outputs": [],
   "source": [
    "if not os.path.exists(\"./datasets/dna/embedded\"):\n",
    "    os.mkdir(\"./datasets/dna/embedded\")"
   ]
  },
  {
   "cell_type": "code",
   "execution_count": 8,
   "id": "a87e56f7-7b12-48db-86bc-40fe07991987",
   "metadata": {},
   "outputs": [],
   "source": [
    "def augment(sample, sequence_length):\n",
    "    offset = np.random.randint(sample.shape[0] - sequence_length + 1)\n",
    "    return sample[offset:sequence_length+offset]"
   ]
  },
  {
   "cell_type": "code",
   "execution_count": 9,
   "id": "cd2b5741-a369-4f84-93a4-4194640c8a42",
   "metadata": {},
   "outputs": [],
   "source": [
    "def sample_generator(store, batch_size):\n",
    "    num_samples = store[\"length\"]\n",
    "    kmer_sequence_length = int(SEQUENCE_LENGTH / KMERS)\n",
    "    kmer_powers = np.full(KMERS, 5)**np.arange(KMERS - 1, -1, -1)\n",
    "\n",
    "    for batch_index in range(0, num_samples, batch_size):\n",
    "        num_samples_in_batch = min(num_samples - batch_index, batch_size)\n",
    "        samples = np.empty(shape=(num_samples_in_batch, SEQUENCE_LENGTH), dtype=np.int32)\n",
    "        for i in range(0, num_samples_in_batch):\n",
    "            samples[i] = augment(store[str(batch_index + i)][0], SEQUENCE_LENGTH)\n",
    "        batch = np.sum(samples.reshape((num_samples_in_batch, -1, KMERS)) * kmer_powers, axis=2)\n",
    "        yield batch"
   ]
  },
  {
   "cell_type": "code",
   "execution_count": 10,
   "id": "cef892d8-76a1-49fc-8b57-9ff113cbd6f9",
   "metadata": {},
   "outputs": [
    {
     "data": {
      "text/plain": [
       "['spring_2016-04-22',\n",
       " 'spring_2019-05-14',\n",
       " 'fall_2017-10-13',\n",
       " 'spring_2020-05-11',\n",
       " 'fall_2016-10-07',\n",
       " 'spring_2017-05-02',\n",
       " 'spring_2018-04-23']"
      ]
     },
     "execution_count": 10,
     "metadata": {},
     "output_type": "execute_result"
    }
   ],
   "source": [
    "files = [f[:-3] for f in os.listdir(\"./datasets/dna\") if f.endswith(\".db\")]\n",
    "files"
   ]
  },
  {
   "cell_type": "code",
   "execution_count": 11,
   "id": "91851c78-e4d6-4afa-b07d-86b1d558dc94",
   "metadata": {},
   "outputs": [
    {
     "name": "stdout",
     "output_type": "stream",
     "text": [
      "Total time: 0.00044274330139160156 seconds.\n"
     ]
    }
   ],
   "source": [
    "batch_size = 128\n",
    "\n",
    "with strategy.scope():\n",
    "    with common.Benchmark() as progress:\n",
    "        for file in files:\n",
    "            dest = f\"./datasets/dna/embedded/3mer_128_{file}\"\n",
    "            if os.path.exists(dest + \".db\"):\n",
    "                continue\n",
    "            in_store = shelve.open(f\"./datasets/dna/{file}\")\n",
    "            out_store = shelve.open(dest)\n",
    "            num_samples = in_store[\"length\"]\n",
    "            num_batches = int(np.ceil(num_samples / batch_size))\n",
    "            for i, batch in enumerate(sample_generator(in_store, batch_size)):\n",
    "                for j, sample in enumerate(encoder(batch)):\n",
    "                    out_store[str(batch_size*i+j)] = sample\n",
    "                print(f\"\\rBatch: {i+1}/{num_batches}\", end=\"\")\n",
    "            print()\n",
    "            out_store[\"length\"] = num_samples\n",
    "            out_store.close()\n",
    "            in_store.close()\n",
    "            progress.checkpoint(f\"File: {file} completed, {num_samples:,} processed\")"
   ]
  },
  {
   "cell_type": "markdown",
   "id": "1b764d8f-0bd9-4721-bef2-cce5fe9fc058",
   "metadata": {},
   "source": [
    "## DNA Dataset\n",
    "\n",
    "Load the DNA samples into a sample generator"
   ]
  },
  {
   "cell_type": "code",
   "execution_count": 12,
   "id": "a52935bf-6cfc-4ce3-8142-5d50a2349f0c",
   "metadata": {},
   "outputs": [],
   "source": [
    "files = os.listdir(\"./datasets/dna\")\n",
    "files = [f\"./datasets/dna/{f[:-3]}\" for f in files if f.endswith(\".db\")]"
   ]
  },
  {
   "cell_type": "code",
   "execution_count": 13,
   "id": "717d8fd8-9656-484a-ba2d-0d6b10a6c4dc",
   "metadata": {},
   "outputs": [
    {
     "data": {
      "text/plain": [
       "['./datasets/dna/spring_2016-04-22',\n",
       " './datasets/dna/spring_2019-05-14',\n",
       " './datasets/dna/fall_2017-10-13',\n",
       " './datasets/dna/spring_2020-05-11',\n",
       " './datasets/dna/fall_2016-10-07',\n",
       " './datasets/dna/spring_2017-05-02',\n",
       " './datasets/dna/spring_2018-04-23']"
      ]
     },
     "execution_count": 13,
     "metadata": {},
     "output_type": "execute_result"
    }
   ],
   "source": [
    "files"
   ]
  },
  {
   "cell_type": "code",
   "execution_count": 14,
   "id": "29302239-226e-4bd6-b2b2-4ef2c494f74e",
   "metadata": {},
   "outputs": [],
   "source": [
    "BATCH_SIZE_PER_REPLICA = 32\n",
    "GLOBAL_BATCH_SIZE = BATCH_SIZE_PER_REPLICA * strategy.num_replicas_in_sync\n",
    "KMERS = 3\n",
    "SEQUENCE_LENGTH = 150\n",
    "SUBSAMPLE_SIZE = 1000\n",
    "BUFFER_SIZE = 20\n",
    "NUM_WORKERS = 4\n",
    "KMER_SEQUENCE_LENGTH = int(SEQUENCE_LENGTH / KMERS)\n",
    "DNA_EMBED_DIM = 128"
   ]
  },
  {
   "cell_type": "code",
   "execution_count": 15,
   "id": "5b51b5cc-e664-4d1b-ae19-9b362d88dd5f",
   "metadata": {},
   "outputs": [],
   "source": [
    "dna_data_generator = common.MultiprocessDnaSampler(\n",
    "    files=files,\n",
    "    kmers=KMERS,\n",
    "    sequence_length=SEQUENCE_LENGTH,\n",
    "    batch_size=GLOBAL_BATCH_SIZE,\n",
    "    subsample_size=SUBSAMPLE_SIZE,\n",
    "    buffer_size=BUFFER_SIZE,\n",
    "    num_workers=NUM_WORKERS)\n",
    "\n",
    "train_dataset = tf.data.Dataset.from_generator(\n",
    "    dna_data_generator.generator,\n",
    "    output_types=(tf.int32),\n",
    "    output_shapes=(\n",
    "        tf.TensorShape([GLOBAL_BATCH_SIZE, SUBSAMPLE_SIZE, KMER_SEQUENCE_LENGTH])))"
   ]
  },
  {
   "cell_type": "code",
   "execution_count": 16,
   "id": "bb20d53a-6871-4344-aa08-5d93c1944641",
   "metadata": {},
   "outputs": [],
   "source": [
    "# train_dataset = tf.data.Dataset.from_tensor_slices(x_train).shuffle(BUFFER_SIZE).batch(GLOBAL_BATCH_SIZE)\n",
    "train_dist_dataset = strategy.experimental_distribute_dataset(train_dataset)"
   ]
  },
  {
   "cell_type": "code",
   "execution_count": 17,
   "id": "abd1030b-4fef-4ff8-ae62-ceaa41e98b80",
   "metadata": {},
   "outputs": [],
   "source": [
    "dna_data_generator.start()"
   ]
  },
  {
   "cell_type": "markdown",
   "id": "ae7e7124-0efa-4032-9c1d-a123de22bf17",
   "metadata": {},
   "source": [
    "## Model Architecture"
   ]
  },
  {
   "cell_type": "code",
   "execution_count": 20,
   "id": "7e5065e5-b63e-4a2a-86d2-2376fd99e1f8",
   "metadata": {},
   "outputs": [],
   "source": [
    "NOISE_DIM = 64\n",
    "EMBED_DIM = 192\n",
    "LATENT_DIM = EMBED_DIM*4\n",
    "NUM_HEADS = 12\n",
    "NUM_ANCHORS = 48\n",
    "MAX_SET_SIZE = SUBSAMPLE_SIZE"
   ]
  },
  {
   "cell_type": "markdown",
   "id": "6bd67242-fba7-44c2-bfdf-838ecf7c6e37",
   "metadata": {},
   "source": [
    "### Generator"
   ]
  },
  {
   "cell_type": "code",
   "execution_count": 21,
   "id": "f2d7919c-dcdb-4a4f-a73b-1ed31b449727",
   "metadata": {},
   "outputs": [
    {
     "name": "stdout",
     "output_type": "stream",
     "text": [
      "Model: \"model_3\"\n",
      "__________________________________________________________________________________________________\n",
      "Layer (type)                    Output Shape         Param #     Connected to                     \n",
      "==================================================================================================\n",
      "input_5 (InputLayer)            [(None, 1)]          0                                            \n",
      "__________________________________________________________________________________________________\n",
      "input_4 (InputLayer)            [(None, 64)]         0                                            \n",
      "__________________________________________________________________________________________________\n",
      "sample_set (SampleSet)          (None, None, 192)    384000      input_5[0][0]                    \n",
      "__________________________________________________________________________________________________\n",
      "spectral_normalization (Spectra (None, 64)           4224        input_4[0][0]                    \n",
      "__________________________________________________________________________________________________\n",
      "conditioned_isab (ConditionedIS (None, None, 192)    1502848     sample_set[0][0]                 \n",
      "                                                                 spectral_normalization[0][0]     \n",
      "__________________________________________________________________________________________________\n",
      "add_1 (Add)                     (None, None, 192)    0           conditioned_isab[0][0]           \n",
      "                                                                 sample_set[0][0]                 \n",
      "__________________________________________________________________________________________________\n",
      "conditioned_isab_1 (Conditioned (None, None, 192)    1502848     add_1[0][0]                      \n",
      "                                                                 spectral_normalization[0][0]     \n",
      "__________________________________________________________________________________________________\n",
      "add_2 (Add)                     (None, None, 192)    0           conditioned_isab_1[0][0]         \n",
      "                                                                 add_1[0][0]                      \n",
      "__________________________________________________________________________________________________\n",
      "conditioned_isab_2 (Conditioned (None, None, 192)    1502848     add_2[0][0]                      \n",
      "                                                                 spectral_normalization[0][0]     \n",
      "__________________________________________________________________________________________________\n",
      "add_3 (Add)                     (None, None, 192)    0           conditioned_isab_2[0][0]         \n",
      "                                                                 add_2[0][0]                      \n",
      "__________________________________________________________________________________________________\n",
      "conditioned_isab_3 (Conditioned (None, None, 192)    1502848     add_3[0][0]                      \n",
      "                                                                 spectral_normalization[0][0]     \n",
      "__________________________________________________________________________________________________\n",
      "spectral_normalization_5 (Spect (None, None, 128)    24704       conditioned_isab_3[0][0]         \n",
      "==================================================================================================\n",
      "Total params: 6,424,320\n",
      "Trainable params: 6,387,264\n",
      "Non-trainable params: 37,056\n",
      "__________________________________________________________________________________________________\n"
     ]
    }
   ],
   "source": [
    "with strategy.scope():\n",
    "    noise = keras.layers.Input((NOISE_DIM,))\n",
    "    cardinality = keras.layers.Input((1,), dtype=tf.int32)\n",
    "    \n",
    "    condition = tfa.layers.SpectralNormalization(keras.layers.Dense(NOISE_DIM))(noise)\n",
    "    \n",
    "    y1 = y = common.SampleSet(MAX_SET_SIZE, EMBED_DIM)(cardinality)\n",
    "    \n",
    "    # Condition the set\n",
    "    y1 = common.ConditionedISAB(embed_dim=EMBED_DIM, dim_cond=NOISE_DIM, num_heads=NUM_HEADS, num_anchors=NUM_ANCHORS)((y, condition))\n",
    "    y = keras.layers.Add()((y1, y))\n",
    "    y1 = common.ConditionedISAB(embed_dim=EMBED_DIM, dim_cond=NOISE_DIM, num_heads=NUM_HEADS, num_anchors=NUM_ANCHORS)((y, condition))\n",
    "    y = keras.layers.Add()((y1, y))\n",
    "    y1 = common.ConditionedISAB(embed_dim=EMBED_DIM, dim_cond=NOISE_DIM, num_heads=NUM_HEADS, num_anchors=NUM_ANCHORS)((y, condition))\n",
    "    y = keras.layers.Add()((y1, y))\n",
    "    y = common.ConditionedISAB(embed_dim=EMBED_DIM, dim_cond=NOISE_DIM, num_heads=NUM_HEADS, num_anchors=NUM_ANCHORS)((y, condition))\n",
    "    \n",
    "    y = tfa.layers.SpectralNormalization(keras.layers.Dense(DNA_EMBED_DIM, use_bias=False))(y)\n",
    "    generator = keras.Model((noise, cardinality), y)\n",
    "    generator.summary()"
   ]
  },
  {
   "cell_type": "markdown",
   "id": "91d6595e-b082-412d-9800-2957ffe59f9d",
   "metadata": {},
   "source": [
    "### Discriminator"
   ]
  },
  {
   "cell_type": "code",
   "execution_count": 22,
   "id": "f23b146d-3330-40da-af96-82f9aca59b37",
   "metadata": {},
   "outputs": [
    {
     "name": "stdout",
     "output_type": "stream",
     "text": [
      "Model: \"model_4\"\n",
      "__________________________________________________________________________________________________\n",
      "Layer (type)                    Output Shape         Param #     Connected to                     \n",
      "==================================================================================================\n",
      "input_6 (InputLayer)            [(None, None, 128)]  0                                            \n",
      "__________________________________________________________________________________________________\n",
      "spectral_normalization_6 (Spect (None, None, 192)    24960       input_6[0][0]                    \n",
      "__________________________________________________________________________________________________\n",
      "induced_set_attention_block (In (None, None, 192)    305664      spectral_normalization_6[0][0]   \n",
      "__________________________________________________________________________________________________\n",
      "add_4 (Add)                     (None, None, 192)    0           spectral_normalization_6[0][0]   \n",
      "                                                                 induced_set_attention_block[0][0]\n",
      "__________________________________________________________________________________________________\n",
      "induced_set_attention_block_1 ( (None, None, 192)    305664      add_4[0][0]                      \n",
      "__________________________________________________________________________________________________\n",
      "add_5 (Add)                     (None, None, 192)    0           add_4[0][0]                      \n",
      "                                                                 induced_set_attention_block_1[0][\n",
      "__________________________________________________________________________________________________\n",
      "induced_set_attention_block_2 ( (None, None, 192)    305664      add_5[0][0]                      \n",
      "__________________________________________________________________________________________________\n",
      "add_6 (Add)                     (None, None, 192)    0           add_5[0][0]                      \n",
      "                                                                 induced_set_attention_block_2[0][\n",
      "__________________________________________________________________________________________________\n",
      "induced_set_encoder (InducedSet (None, 192)          148416      add_4[0][0]                      \n",
      "__________________________________________________________________________________________________\n",
      "induced_set_encoder_1 (InducedS (None, 192)          148416      add_5[0][0]                      \n",
      "__________________________________________________________________________________________________\n",
      "induced_set_encoder_2 (InducedS (None, 192)          148416      add_6[0][0]                      \n",
      "__________________________________________________________________________________________________\n",
      "concatenate (Concatenate)       (None, 576)          0           induced_set_encoder[0][0]        \n",
      "                                                                 induced_set_encoder_1[0][0]      \n",
      "                                                                 induced_set_encoder_2[0][0]      \n",
      "__________________________________________________________________________________________________\n",
      "spectral_normalization_7 (Spect (None, 1)            578         concatenate[0][0]                \n",
      "==================================================================================================\n",
      "Total params: 1,387,778\n",
      "Trainable params: 1,387,585\n",
      "Non-trainable params: 193\n",
      "__________________________________________________________________________________________________\n"
     ]
    }
   ],
   "source": [
    "with strategy.scope():\n",
    "    y = x = keras.layers.Input((None, DNA_EMBED_DIM))\n",
    "    y1 = y = tfa.layers.SpectralNormalization(keras.layers.Dense(EMBED_DIM))(y)\n",
    "#     e0 = sf.ISE(1, LATENT_DIM, 4)(y)\n",
    "    \n",
    "    enc = []\n",
    "    for i in range(3):\n",
    "        y = sf.ISAB(EMBED_DIM, num_heads=NUM_HEADS, num_induce=NUM_ANCHORS)(y)\n",
    "        y1 = y = keras.layers.Add()((y1, y))\n",
    "        enc.append(sf.ISE(1, EMBED_DIM, NUM_HEADS)(y))\n",
    "\n",
    "    y = keras.layers.Concatenate()(enc)\n",
    "\n",
    "    y = tfa.layers.SpectralNormalization(keras.layers.Dense(1))(y)\n",
    "\n",
    "    discriminator = keras.Model(x, y)\n",
    "    discriminator.summary()"
   ]
  },
  {
   "cell_type": "markdown",
   "id": "10f52677-b401-4cff-80c8-46d5b82b4ebb",
   "metadata": {},
   "source": [
    "### Coupled Model"
   ]
  },
  {
   "cell_type": "code",
   "execution_count": 23,
   "id": "239f97bd-fb72-4d32-b36d-b26d433adb66",
   "metadata": {},
   "outputs": [],
   "source": [
    "with strategy.scope():\n",
    "    x1 = keras.layers.Input(generator.input_shape[0][1:])\n",
    "    x2 = keras.layers.Input(generator.input_shape[1][1:])\n",
    "    y = generator((x1, x2))\n",
    "    y = discriminator(y)\n",
    "    model = keras.Model((x1, x2), y)"
   ]
  },
  {
   "cell_type": "markdown",
   "id": "aba31a79-0656-407a-bb1c-63d0b1321b76",
   "metadata": {},
   "source": [
    "## Loss Functions\n",
    "\n",
    "Note: the original paper uses a version of Hinge loss. This implementation utilizes the basic binary crossentropy loss for the generator and discriminator."
   ]
  },
  {
   "cell_type": "code",
   "execution_count": 24,
   "id": "1b5cdbf2-c269-4563-99d0-779dd06c70ee",
   "metadata": {},
   "outputs": [],
   "source": [
    "with strategy.scope():\n",
    "    loss_obj = keras.losses.BinaryCrossentropy(from_logits=True, reduction=tf.keras.losses.Reduction.NONE)"
   ]
  },
  {
   "cell_type": "code",
   "execution_count": 25,
   "id": "c9ea717f-b546-4321-8ed6-b41b420f48e2",
   "metadata": {},
   "outputs": [],
   "source": [
    "# def generator_loss(fake_output):\n",
    "#     loss = -tf.reduce_mean(fake_output)\n",
    "#     return loss\n",
    "\n",
    "# def discriminator_loss(real_output, fake_output):\n",
    "#     real_loss = tf.reduce_mean(tf.maximum(1 - real_output, 0))\n",
    "#     fake_loss = tf.reduce_mean(tf.maximum(1 + fake_output, 0))\n",
    "#     loss = real_loss + fake_loss\n",
    "#     return loss\n",
    "\n",
    "def generator_loss(fake_output):\n",
    "    loss = loss_obj(tf.ones_like(fake_output), fake_output)\n",
    "    return tf.nn.compute_average_loss(loss, global_batch_size=GLOBAL_BATCH_SIZE)\n",
    "\n",
    "def discriminator_loss(real_output, fake_output):\n",
    "    real_loss = loss_obj(tf.ones_like(real_output), real_output)\n",
    "    fake_loss = loss_obj(tf.zeros_like(fake_output), fake_output)\n",
    "    loss = real_loss + fake_loss\n",
    "    return tf.nn.compute_average_loss(loss, global_batch_size=GLOBAL_BATCH_SIZE)"
   ]
  },
  {
   "cell_type": "markdown",
   "id": "8dd54637-b716-424a-bdd1-04c1a120fbed",
   "metadata": {},
   "source": [
    "## Optimizers"
   ]
  },
  {
   "cell_type": "code",
   "execution_count": 26,
   "id": "03830825-7dd3-4de3-b88d-fc0a68e7f103",
   "metadata": {},
   "outputs": [],
   "source": [
    "with strategy.scope():\n",
    "    gen_optimizer = keras.optimizers.Adam(1e-4)\n",
    "    disc_optimizer = keras.optimizers.Adam(1e-4)"
   ]
  },
  {
   "cell_type": "code",
   "execution_count": 27,
   "id": "70888686-948b-4aaa-af95-e2fe48abed7b",
   "metadata": {},
   "outputs": [],
   "source": [
    "def lr_schedule(optimizers):\n",
    "    for optimizer in optimizers:\n",
    "        optimizer.learning_rate.assign(optimizer.learning_rate*0.95)"
   ]
  },
  {
   "cell_type": "markdown",
   "id": "a6da40c6-64fa-4398-8a26-5a23bb48aa2a",
   "metadata": {},
   "source": [
    "## Training\n",
    "\n",
    "It's worth noting that the generator conditions currently randomly samples points regardless of the given noise input. This causes generated preview digits to be inconsistant."
   ]
  },
  {
   "cell_type": "code",
   "execution_count": 28,
   "id": "d7b086d5-9873-4317-8cd1-eeddf6726ef8",
   "metadata": {},
   "outputs": [],
   "source": [
    "def train_step(real, k):\n",
    "#     for _ in range(k):\n",
    "    noise = tf.random.normal((BATCH_SIZE_PER_REPLICA, NOISE_DIM))\n",
    "    n = tf.repeat(tf.constant([SUBSAMPLE_SIZE]), tf.shape(noise)[0])\n",
    "    \n",
    "    # Embed the given real sequences\n",
    "    b = tf.reshape(real, (-1, KMER_SEQUENCE_LENGTH))\n",
    "    embedded_real = embed_model.encoder(b)\n",
    "    real = tf.reshape(embedded_real, (-1, SUBSAMPLE_SIZE, DNA_EMBED_DIM))\n",
    "        \n",
    "    with tf.GradientTape() as disc_tape, tf.GradientTape() as gen_tape:\n",
    "        fake = generator((noise, n))\n",
    "        fake_output = discriminator(fake)\n",
    "        real_output = discriminator(real)\n",
    "        \n",
    "        disc_loss = discriminator_loss(real_output, fake_output)\n",
    "        gen_loss = generator_loss(fake_output)\n",
    "        \n",
    "#         disc_loss = tf.reduce_mean(tf.maximum(1 - real_output, 0)) + tf.reduce_mean(tf.maximum(1 + fake_output, 0))\n",
    "#         gen_loss = - tf.reduce_mean(fake_output)\n",
    "    \n",
    "    disc_grads = disc_tape.gradient(disc_loss, discriminator.trainable_variables)\n",
    "    gen_grads = gen_tape.gradient(gen_loss, generator.trainable_variables)\n",
    "    \n",
    "    disc_optimizer.apply_gradients(zip(disc_grads, discriminator.trainable_variables))\n",
    "    gen_optimizer.apply_gradients(zip(gen_grads, generator.trainable_variables))\n",
    "    \n",
    "    return disc_loss, gen_loss\n",
    "\n",
    "@tf.function()\n",
    "def distributed_train_step(batch, k):\n",
    "    losses = strategy.run(train_step, args=(batch, k))\n",
    "    return strategy.reduce(tf.distribute.ReduceOp.MEAN, losses, axis=None)"
   ]
  },
  {
   "cell_type": "code",
   "execution_count": 29,
   "id": "ca9cd694-9f63-45d5-8c37-9f4b4c55ca93",
   "metadata": {},
   "outputs": [],
   "source": [
    "# Used to preview during training\n",
    "test_noise = tf.random.normal((5, NOISE_DIM))\n",
    "n = tf.repeat(tf.constant([SUBSAMPLE_SIZE]), tf.shape(test_noise)[0])\n",
    "disc_losses = []\n",
    "gen_losses = []\n",
    "step = 0\n",
    "k = 1"
   ]
  },
  {
   "cell_type": "code",
   "execution_count": 30,
   "id": "67041c9c-692d-4d06-ad78-b365f28d71d2",
   "metadata": {},
   "outputs": [
    {
     "name": "stdout",
     "output_type": "stream",
     "text": [
      "Step: 2211/10000; 0.18s; Generator loss: 3.6106903553009033; Discriminator loss: 0.72981196641922"
     ]
    }
   ],
   "source": [
    "# Training Loop\n",
    "with strategy.scope():\n",
    "    num_steps = 10000\n",
    "    \n",
    "    data_iterator = iter(train_dist_dataset)\n",
    "    \n",
    "    try:\n",
    "    \n",
    "        end_step = step + num_steps\n",
    "        for step in range(step, end_step):\n",
    "\n",
    "            if step % 100 == 0:\n",
    "                test_store = shelve.open(\"./results/dna_gen\")\n",
    "                test_store[str(step)] = generator((test_noise, n))\n",
    "                test_store.close()\n",
    "\n",
    "            start = time.time()\n",
    "\n",
    "            batch = next(data_iterator)[0]\n",
    "            losses = distributed_train_step(batch, k)\n",
    "            disc_loss = losses[0]\n",
    "            gen_loss = losses[1]\n",
    "            display.clear_output(wait=True)\n",
    "            print(f\"\\rStep: {step}/{end_step}; {time.time() - start:.2}s; Generator loss: {gen_loss/(i+1)}; Discriminator loss: {disc_loss/(i+1)}\", end=\"\")\n",
    "            disc_losses.append(disc_loss / (i+1))\n",
    "            gen_losses.append(gen_loss / (i+1))\n",
    "\n",
    "        #     if epoch % 10 == 0:\n",
    "        #         model.save_weights(f\"gast_epoch_{epoch}.h5\")\n",
    "    except KeyboardInterrupt as e:\n",
    "        test_store.sync()"
   ]
  },
  {
   "cell_type": "code",
   "execution_count": 31,
   "id": "05f27ac3-8360-48c0-a6c0-e105b08cd857",
   "metadata": {},
   "outputs": [],
   "source": [
    "model.save_weights(\"./models/dnagast.h5\")"
   ]
  },
  {
   "cell_type": "markdown",
   "id": "4614dd53-b79c-47a1-8f68-5b693f8dd980",
   "metadata": {},
   "source": [
    "## Evaluation\n",
    "\n",
    "After training, we can evaluate the model by comparing sample similarity using Chamfer distance. The similarity can be visualized using metric multi-dimensional scaling (MDS)."
   ]
  },
  {
   "cell_type": "markdown",
   "id": "6d90dd5a-f314-40ba-b210-76fa05b65ea4",
   "metadata": {},
   "source": [
    "The following cell implements the Chamfer distance metric in Cython utilizing cityblock distance between points rather than euclidean as Manhattan distance can achieve more meaningful results for higher-dimension elements (https://bib.dbvis.de/uploadedFiles/155.pdf)."
   ]
  },
  {
   "cell_type": "code",
   "execution_count": 32,
   "id": "2c74f084-4852-43bf-ba41-a72fc584b361",
   "metadata": {},
   "outputs": [],
   "source": [
    "%%cython\n",
    "\n",
    "cpdef float chamfer_distance_cython(float[:,:] a, float[:,:] b):\n",
    "    cdef float total_dist = 0.0\n",
    "    cdef float d\n",
    "    cdef float min_d\n",
    "    cdef int i, j, k\n",
    "    cdef int len_a = len(a)\n",
    "    cdef int len_b = len(b)\n",
    "    cdef int point_width = len(a[0])\n",
    "    for i in range(len_a):\n",
    "        min_d = -1\n",
    "        for j in range(len_b):\n",
    "            d = 0.0\n",
    "            for k in range(point_width):\n",
    "                d += abs(b[j][k] - a[i][k])\n",
    "            if d < min_d or min_d == -1.0:\n",
    "                min_d = d\n",
    "        total_dist += min_d\n",
    "    return total_dist / len_a"
   ]
  },
  {
   "cell_type": "markdown",
   "id": "984118be-3ad3-418c-85cc-3aa84e9d1bb1",
   "metadata": {
    "tags": []
   },
   "source": [
    "## MDS of Embedded Samples\n",
    "\n",
    "This first section computes the Chamfer distances and generates the MDS plot for the landmark samples."
   ]
  },
  {
   "cell_type": "code",
   "execution_count": 33,
   "id": "ddb30ba9-440f-41a0-9153-c001ba0ce153",
   "metadata": {},
   "outputs": [],
   "source": [
    "NUM_LANDMARKS_PER_SAMPLE = 10"
   ]
  },
  {
   "cell_type": "code",
   "execution_count": 34,
   "id": "d91b7e5c-dea0-444a-8d35-6f84436f5806",
   "metadata": {},
   "outputs": [
    {
     "data": {
      "text/plain": [
       "['spring_2016-04-22',\n",
       " 'spring_2019-05-14',\n",
       " 'fall_2017-10-13',\n",
       " 'spring_2020-05-11',\n",
       " 'fall_2016-10-07',\n",
       " 'spring_2017-05-02',\n",
       " 'spring_2018-04-23']"
      ]
     },
     "execution_count": 34,
     "metadata": {},
     "output_type": "execute_result"
    }
   ],
   "source": [
    "files = [f[:-3] for f in os.listdir(\"./datasets/dna\") if f.endswith(\".db\")]\n",
    "files"
   ]
  },
  {
   "cell_type": "code",
   "execution_count": 35,
   "id": "1e0784a8-cca7-480d-af00-f6d0034e7d0e",
   "metadata": {},
   "outputs": [],
   "source": [
    "prefix = \"./datasets/dna/embedded/3mer_128_\""
   ]
  },
  {
   "cell_type": "markdown",
   "id": "b983f533-5e28-4c86-a212-a4058f5ab26b",
   "metadata": {},
   "source": [
    "### Subsampling\n",
    "\n",
    "This cell loads a number of subsamples from each of the main sample files available. Specifically, this cell subsamples the full sample, taking only 1,000 DNA sequences at random without replacement for each subsample."
   ]
  },
  {
   "cell_type": "code",
   "execution_count": 36,
   "id": "01a2127e-487d-41d8-a096-88468bcfa1b6",
   "metadata": {},
   "outputs": [
    {
     "name": "stdout",
     "output_type": "stream",
     "text": [
      "Previous landmark subsamples loaded\n"
     ]
    }
   ],
   "source": [
    "if os.path.exists(\"./results/dna_landmarks.npy\"):\n",
    "    print(\"Previous landmark subsamples loaded\")\n",
    "    samples = np.load(\"./results/dna_landmarks.npy\")\n",
    "    num_samples_per_file = NUM_LANDMARKS_PER_SAMPLE\n",
    "    sample_size = samples.shape[1]\n",
    "    embed_dim = samples.shape[2]\n",
    "    \n",
    "else:\n",
    "    num_samples_per_file = NUM_LANDMARKS_PER_SAMPLE\n",
    "    sample_size = 1000\n",
    "    embed_dim = 128\n",
    "    samples = np.empty((len(files)*num_samples_per_file, sample_size, embed_dim), dtype=np.float32)\n",
    "\n",
    "    for i, file in enumerate(files):\n",
    "        store = shelve.open(prefix + file)\n",
    "        store_len = store[\"length\"]\n",
    "        for j in range(num_samples_per_file):\n",
    "            for k, index in enumerate(np.random.choice(np.arange(store_len), sample_size, replace=False)):\n",
    "                samples[i*num_samples_per_file+j][k] = store[str(index)]\n",
    "    np.save(\"./results/dna_landmarks.npy\", samples)"
   ]
  },
  {
   "cell_type": "markdown",
   "id": "1cd58253-8749-4212-8041-adb3ea121810",
   "metadata": {},
   "source": [
    "### Subsample Similarity with Chamfer Distance\n",
    "\n",
    "This next cell computes the Chamfer distance between each of the chosen subsamples. If the distances have been computed previously, they will be loaded instead."
   ]
  },
  {
   "cell_type": "code",
   "execution_count": 37,
   "id": "600fb2d6-11eb-4614-9463-308338f442a8",
   "metadata": {},
   "outputs": [
    {
     "name": "stdout",
     "output_type": "stream",
     "text": [
      "Previous distances loaded from file\n"
     ]
    }
   ],
   "source": [
    "filename = \"./results/dna_landmark_distances.npy\"\n",
    "if os.path.exists(filename):\n",
    "    distances = np.load(filename)\n",
    "    print(\"Previous distances loaded from file\")\n",
    "    \n",
    "else:\n",
    "    n = len(samples)\n",
    "\n",
    "    distances = np.empty(shape=(n, n))\n",
    "    with strategy.scope():\n",
    "        with common.Benchmark():\n",
    "            for i in range(n):\n",
    "                distances[i][i] = 0.0\n",
    "                for j in range(i+1, n):\n",
    "                    # distances[i][j] = chamfer_distance.evaluate(samples[i], samples[j])\n",
    "                    distances[i][j] = chamfer_distance_cython(samples[i], samples[j])\n",
    "                    distances[j][i] = distances[i][j]\n",
    "                    print(f\"\\rM[{i}][{j}]\", end=\"\")\n",
    "        print()\n",
    "    np.save(filename, distances)"
   ]
  },
  {
   "cell_type": "markdown",
   "id": "a90353c9-10ff-450b-ae37-684068782689",
   "metadata": {},
   "source": [
    "### Load GAN Subsamples from Shelve"
   ]
  },
  {
   "cell_type": "code",
   "execution_count": 38,
   "id": "cd80e421-daea-4452-8468-4e7c6b0de552",
   "metadata": {},
   "outputs": [],
   "source": [
    "steps = 1000 # Which step count to sample from\n",
    "store = shelve.open(\"./results/dna_gen\")\n",
    "gen_samples = store[str(steps)]\n",
    "store.close()"
   ]
  },
  {
   "cell_type": "markdown",
   "id": "a3782924-0566-4eca-8fc4-9ed5288866e3",
   "metadata": {},
   "source": [
    "### Compute New Chamfer Distances\n",
    "\n",
    "**Note:** We could speed this process up here by using Nystroem approximations... Not sure how yet though..."
   ]
  },
  {
   "cell_type": "code",
   "execution_count": 39,
   "id": "9f799da1-871a-4b98-89b0-ae1804b44f4c",
   "metadata": {},
   "outputs": [],
   "source": [
    "new_distances = np.zeros(np.add(distances.shape, gen_samples.shape[0]))\n",
    "new_distances[:distances.shape[0], :distances.shape[1]] = distances"
   ]
  },
  {
   "cell_type": "code",
   "execution_count": 40,
   "id": "cedbf48b-dfb2-4493-bb99-1e188ff68eec",
   "metadata": {},
   "outputs": [
    {
     "name": "stdout",
     "output_type": "stream",
     "text": [
      "M[73][74]"
     ]
    }
   ],
   "source": [
    "n = len(distances)\n",
    "N = len(new_distances)\n",
    "for i in range(n, N):\n",
    "    new_distances[i][i] = 0.0\n",
    "    for j in range(0, n):\n",
    "        new_distances[i][j] = chamfer_distance_cython(gen_samples[i-n].numpy(), samples[j])\n",
    "        new_distances[j][i] = new_distances[i][j]\n",
    "    for j in range(i+1, N):\n",
    "        new_distances[i][j] = chamfer_distance_cython(gen_samples[i-n].numpy(), gen_samples[j-n].numpy())\n",
    "        new_distances[j][i] = new_distances[i][j]\n",
    "        print(f\"\\rM[{i}][{j}]\", end=\"\")"
   ]
  },
  {
   "cell_type": "code",
   "execution_count": 41,
   "id": "4456ec0d-0f1e-4444-af37-9af694373d12",
   "metadata": {},
   "outputs": [
    {
     "data": {
      "text/plain": [
       "array([1405.53210449, 1419.32189941, 1425.29492188, 1419.03234863,\n",
       "       1420.88525391, 1391.75866699, 1439.32983398, 1251.3302002 ,\n",
       "       1346.53027344, 1428.57958984, 1469.4473877 , 1450.57592773,\n",
       "       1483.40332031, 1442.38891602, 1437.13952637, 1500.20141602,\n",
       "       1508.11547852, 1494.0480957 , 1481.0501709 , 1433.18127441,\n",
       "       1444.96899414, 1468.66845703, 1449.80627441, 1419.33276367,\n",
       "       1363.19763184, 1455.27844238, 1457.82885742, 1452.71105957,\n",
       "       1484.60632324, 1449.64782715, 1457.9543457 , 1351.34545898,\n",
       "       1452.8347168 , 1303.6237793 , 1480.12280273, 1397.38867188,\n",
       "       1303.6237793 , 1471.0723877 , 1476.92565918, 1462.77685547,\n",
       "       1396.28637695, 1382.8470459 , 1407.41162109, 1426.58581543,\n",
       "       1402.80517578, 1419.97363281, 1398.32397461, 1396.20874023,\n",
       "       1393.22692871, 1399.97717285, 1446.71740723, 1377.78503418,\n",
       "       1347.16748047, 1428.27368164, 1373.25061035, 1476.90991211,\n",
       "       1407.5612793 , 1471.22973633, 1449.36328125, 1448.57312012,\n",
       "       1294.8104248 , 1446.53540039, 1444.33630371, 1432.90490723,\n",
       "       1445.03686523, 1468.66833496, 1453.6673584 , 1452.4864502 ,\n",
       "       1471.71765137, 1385.2286377 ,    0.        ,  230.33004761,\n",
       "         38.56798172,  108.69243622,  146.60340881])"
      ]
     },
     "execution_count": 41,
     "metadata": {},
     "output_type": "execute_result"
    }
   ],
   "source": [
    "new_distances[70]"
   ]
  },
  {
   "cell_type": "markdown",
   "id": "46dea507-ad4d-40bc-a0f7-751df0b2eece",
   "metadata": {},
   "source": [
    "### MDS Plot"
   ]
  },
  {
   "cell_type": "code",
   "execution_count": 42,
   "id": "2acaaa0b-86fc-48c4-b9c3-34cdacee1c5d",
   "metadata": {},
   "outputs": [],
   "source": [
    "mds = MDS(n_components=2, metric=True, dissimilarity='precomputed')"
   ]
  },
  {
   "cell_type": "code",
   "execution_count": 43,
   "id": "b761ae48-0334-4068-92dd-db7aee2ea429",
   "metadata": {},
   "outputs": [
    {
     "data": {
      "text/plain": [
       "(75, 2)"
      ]
     },
     "execution_count": 43,
     "metadata": {},
     "output_type": "execute_result"
    }
   ],
   "source": [
    "dna_pca = mds.fit_transform(new_distances)\n",
    "dna_pca.shape"
   ]
  },
  {
   "cell_type": "code",
   "execution_count": 44,
   "id": "6e5f52d7-a41d-495a-a385-7e3512eacb7f",
   "metadata": {},
   "outputs": [
    {
     "data": {
      "image/png": "[encoded data removed]",
      "text/plain": [
       "<Figure size 504x360 with 1 Axes>"
      ]
     },
     "metadata": {
      "needs_background": "light"
     },
     "output_type": "display_data"
    }
   ],
   "source": [
    "plt.figure(figsize=(7,5))\n",
    "for i in range(0, num_samples_per_file*len(files), num_samples_per_file):\n",
    "    plt.scatter(*dna_pca[i:i+num_samples_per_file].T)\n",
    "plt.title(\"MDS of Chamfer Distances Between DNA Samples\")\n",
    "plt.scatter(*dna_pca[len(distances):].T)\n",
    "plt.legend(files + [f\"Synthesized ({steps} steps)\"], loc=\"upper center\", bbox_to_anchor=(0.46, -0.1), fancybox=True, ncol=3)\n",
    "plt.tight_layout()\n",
    "plt.show()"
   ]
  },
  {
   "cell_type": "code",
   "execution_count": null,
   "id": "91e00c19-ae16-4c6b-b92f-864d70e6c6a0",
   "metadata": {},
   "outputs": [],
   "source": []
  }
 ],
 "metadata": {
  "kernelspec": {
   "display_name": "Python 3 (λ)",
   "language": "python",
   "name": "lambda-stack"
  },
  "language_info": {
   "codemirror_mode": {
    "name": "ipython",
    "version": 3
   },
   "file_extension": ".py",
   "mimetype": "text/x-python",
   "name": "python",
   "nbconvert_exporter": "python",
   "pygments_lexer": "ipython3",
   "version": "3.8.10"
  }
 },
 "nbformat": 4,
 "nbformat_minor": 5
}
